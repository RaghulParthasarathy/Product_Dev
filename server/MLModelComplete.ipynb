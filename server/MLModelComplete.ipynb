{
  "cells": [
    {
      "cell_type": "code",
      "execution_count": 1,
      "metadata": {
        "id": "tFy3H3aPgx12"
      },
      "outputs": [
        {
          "name": "stderr",
          "output_type": "stream",
          "text": [
            "\n",
            "[notice] A new release of pip is available: 24.3.1 -> 25.0\n",
            "[notice] To update, run: C:\\Users\\souma\\AppData\\Local\\Microsoft\\WindowsApps\\PythonSoftwareFoundation.Python.3.12_qbz5n2kfra8p0\\python.exe -m pip install --upgrade pip\n",
            "\n",
            "[notice] A new release of pip is available: 24.3.1 -> 25.0\n",
            "[notice] To update, run: C:\\Users\\souma\\AppData\\Local\\Microsoft\\WindowsApps\\PythonSoftwareFoundation.Python.3.12_qbz5n2kfra8p0\\python.exe -m pip install --upgrade pip\n",
            "\n",
            "[notice] A new release of pip is available: 24.3.1 -> 25.0\n",
            "[notice] To update, run: C:\\Users\\souma\\AppData\\Local\\Microsoft\\WindowsApps\\PythonSoftwareFoundation.Python.3.12_qbz5n2kfra8p0\\python.exe -m pip install --upgrade pip\n"
          ]
        }
      ],
      "source": [
        "!pip install --upgrade --user --quiet google-cloud-aiplatform\n",
        "!pip install --quiet transformers datasets\n",
        "!pip install --quiet python-dotenv"
      ]
    },
    {
      "cell_type": "code",
      "execution_count": 2,
      "metadata": {
        "id": "XRvKdaPDTznN"
      },
      "outputs": [],
      "source": [
        "import sys\n",
        "\n",
        "if \"google.colab\" in sys.modules:\n",
        "    import IPython\n",
        "\n",
        "    app = IPython.Application.instance()\n",
        "    app.kernel.do_shutdown(True)"
      ]
    },
    {
      "cell_type": "code",
      "execution_count": 3,
      "metadata": {
        "id": "NyKGtVQjgx13"
      },
      "outputs": [],
      "source": [
        "import sys\n",
        "\n",
        "if \"google.colab\" in sys.modules:\n",
        "    from google.colab import auth\n",
        "\n",
        "    auth.authenticate_user()"
      ]
    },
    {
      "cell_type": "code",
      "execution_count": 4,
      "metadata": {
        "id": "Nqwi-5ufWp_B"
      },
      "outputs": [],
      "source": [
        "import os\n",
        "\n",
        "import vertexai\n",
        "\n",
        "from dotenv import load_dotenv\n",
        "\n",
        "load_dotenv()\n",
        "PROJECT_ID = os.getenv(\"PROJECT_ID\")\n",
        " \n",
        "if not PROJECT_ID or PROJECT_ID == \"[your-project-id]\":\n",
        "    PROJECT_ID = str(os.environ.get(\"GOOGLE_CLOUD_PROJECT\"))\n",
        "\n",
        "LOCATION = os.environ.get(\"GOOGLE_CLOUD_REGION\", \"us-central1\")\n",
        "\n",
        "vertexai.init(project=PROJECT_ID, location=LOCATION)"
      ]
    },
    {
      "cell_type": "code",
      "execution_count": 5,
      "metadata": {
        "id": "lslYAvw37JGQ"
      },
      "outputs": [],
      "source": [
        "import IPython.display\n",
        "from vertexai.generative_models import (\n",
        "    GenerationConfig,\n",
        "    GenerativeModel,\n",
        "    HarmBlockThreshold,\n",
        "    HarmCategory,\n",
        "    Part,\n",
        ")"
      ]
    },
    {
      "cell_type": "code",
      "execution_count": 6,
      "metadata": {
        "id": "U7ExWmuLBdIA"
      },
      "outputs": [],
      "source": [
        "MODEL_ID = \"gemini-1.5-flash-002\"  # @param {type:\"string\"}\n",
        "\n",
        "model = GenerativeModel(MODEL_ID)"
      ]
    },
    {
      "cell_type": "code",
      "execution_count": 7,
      "metadata": {
        "id": "FhFxrtfdSwOP"
      },
      "outputs": [],
      "source": [
        "generation_config = GenerationConfig(\n",
        "    temperature=0,\n",
        "    top_p=1.0,\n",
        "    top_k=32,\n",
        "    candidate_count=1,\n",
        "    max_output_tokens=8192,\n",
        ")\n",
        "\n",
        "safety_settings = {\n",
        "    HarmCategory.HARM_CATEGORY_HARASSMENT: HarmBlockThreshold.BLOCK_LOW_AND_ABOVE,\n",
        "    HarmCategory.HARM_CATEGORY_HATE_SPEECH: HarmBlockThreshold.BLOCK_LOW_AND_ABOVE,\n",
        "    HarmCategory.HARM_CATEGORY_SEXUALLY_EXPLICIT: HarmBlockThreshold.BLOCK_LOW_AND_ABOVE,\n",
        "    HarmCategory.HARM_CATEGORY_DANGEROUS_CONTENT: HarmBlockThreshold.BLOCK_LOW_AND_ABOVE,\n",
        "}\n",
        "\n",
        "example_model = GenerativeModel(\n",
        "    MODEL_ID,\n",
        "    generation_config=generation_config,\n",
        "    safety_settings=safety_settings,\n",
        ")"
      ]
    },
    {
      "cell_type": "code",
      "execution_count": 8,
      "metadata": {},
      "outputs": [
        {
          "name": "stdout",
          "output_type": "stream",
          "text": [
            "⚠️ Skipping non-pickleable variable: get_ipython\n",
            "⚠️ Skipping non-pickleable variable: exit\n",
            "⚠️ Skipping non-pickleable variable: quit\n",
            "⚠️ Skipping non-pickleable variable: open\n",
            "⚠️ Skipping non-pickleable variable: sys\n",
            "⚠️ Skipping non-pickleable variable: os\n",
            "⚠️ Skipping non-pickleable variable: vertexai\n",
            "⚠️ Skipping non-pickleable variable: IPython\n",
            "⚠️ Skipping non-pickleable variable: pickle\n",
            "✅ Variables saved to variables.pkl\n"
          ]
        }
      ],
      "source": [
        "import pickle\n",
        "\n",
        "def save_variables(filename=\"variables.pkl\"):\n",
        "    global_vars = {k: v for k, v in globals().items() \n",
        "                   if not k.startswith(\"__\") and k != \"save_variables\"}\n",
        "    safe_vars = {}\n",
        "    for k, v in global_vars.items():\n",
        "        try:\n",
        "            pickle.dumps(v)  \n",
        "            safe_vars[k] = v  \n",
        "        except (pickle.PickleError, AttributeError, TypeError):\n",
        "            print(f\"⚠️ Skipping non-pickleable variable: {k}\")\n",
        "\n",
        "    with open(filename, \"wb\") as f:\n",
        "        pickle.dump(safe_vars, f)\n",
        "\n",
        "    print(f\"✅ Variables saved to {filename}\")\n",
        "save_variables()\n"
      ]
    },
    {
      "cell_type": "code",
      "execution_count": 9,
      "metadata": {},
      "outputs": [
        {
          "name": "stdout",
          "output_type": "stream",
          "text": [
            "Extracted Data Before Parsing: (\"Need a website that makes blog\")\n",
            "Processed output written to output.js\n"
          ]
        }
      ],
      "source": [
        "import json\n",
        "import re\n",
        "\n",
        "with open(\"input-text.js\", \"r\", encoding=\"utf-8\") as file:\n",
        "    content = file.read()\n",
        "\n",
        "match = re.search(r'export const inputData = (.*);', content, re.DOTALL)\n",
        "\n",
        "if match:\n",
        "    extracted_data = match.group(1).strip()\n",
        "    # print(\"Extracted Data Before Parsing:\", extracted_data)\n",
        "else:\n",
        "    raise ValueError(\"Invalid input-text.js format - No match found!\")\n",
        "\n",
        "response = example_model.generate_content([extracted_data])\n",
        "\n",
        "# Escape $ and backticks ` by adding a backslash before them\n",
        "escaped_text = re.sub(r'([$`])', r'\\\\\\1', response.text)\n",
        "\n",
        "output_data = f\"export const outputData = {{ text : `{escaped_text}` }};\\n\"\n",
        "\n",
        "with open(\"output-text.js\", \"w\", encoding=\"utf-8\") as file:\n",
        "    file.write(output_data)\n",
        "\n",
        "# print(\"Processed output written to output-text.js\")\n"
      ]
    }
  ],
  "metadata": {
    "accelerator": "GPU",
    "colab": {
      "gpuType": "T4",
      "provenance": []
    },
    "kernelspec": {
      "display_name": "Python 3",
      "name": "python3"
    },
    "language_info": {
      "codemirror_mode": {
        "name": "ipython",
        "version": 3
      },
      "file_extension": ".py",
      "mimetype": "text/x-python",
      "name": "python",
      "nbconvert_exporter": "python",
      "pygments_lexer": "ipython3",
      "version": "3.12.8"
    }
  },
  "nbformat": 4,
  "nbformat_minor": 0
}
